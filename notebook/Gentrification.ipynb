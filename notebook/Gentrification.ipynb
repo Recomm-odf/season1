{
 "cells": [
  {
   "cell_type": "markdown",
   "metadata": {
    "slideshow": {
     "slide_type": "slide"
    }
   },
   "source": [
    "# Gentrification"
   ]
  },
  {
   "cell_type": "markdown",
   "metadata": {
    "slideshow": {
     "slide_type": "slide"
    }
   },
   "source": [
    "# Jupyter tutorial : \n",
    "* https://www.anaconda.com/download\n",
    "* https://www.slideshare.net/dahlmoon/jupyter-notebok-20160815\n",
    "* https://github.com/damianavila/RISE\n",
    "* CONDA PATH등록"
   ]
  },
  {
   "cell_type": "markdown",
   "metadata": {
    "slideshow": {
     "slide_type": "slide"
    }
   },
   "source": [
    "# 젠트리피케이션 관련 기사 : \n",
    "* 영문 : http://www.edaily.co.kr/news/news_detail.asp?newsId=04122966609568672&mediaCodeNo=257&OutLnkChk=Y\n",
    "* 국문 : http://www.hani.co.kr/arti/society/area/731617.html\n",
    "* 시각화 : https://bigdata.seoul.go.kr/noti/selectNoti.do?r_id=P420&bbs_seq=126&sch_type=&sch_text=&currentPage=1#\n",
    "* 연구보고서 : \n",
    "    * https://www.google.co.kr/url?sa=t&rct=j&q=&esrc=s&source=web&cd=2&cad=rja&uact=8&ved=0ahUKEwjYzcXf3ZjXAhXDGpQKHdgvCW0QFggnMAE&url=http%3A%2F%2Fwww.krihs.re.kr%2FfileViewer.do%3Ffname%3DAB4840431C31457C9C3DB0B6EA3B9E0D.pdf%26path%3D4%26oname%3Dbrief%2B613.pdf&usg=AOvVaw2Cx7waKsBjqi0Q3MD-rutX\n",
    "    * http://www.rei-korea.com/files/board/80_통계자료/신탁형%20도시재생회사를%20활용한.pdf\n",
    "    * http://library.krihs.re.kr/upload/publication/publication/0000083664.pdf"
   ]
  }
 ],
 "metadata": {
  "celltoolbar": "Slideshow",
  "kernelspec": {
   "display_name": "Python [default]",
   "language": "python",
   "name": "python3"
  },
  "language_info": {
   "codemirror_mode": {
    "name": "ipython",
    "version": 3
   },
   "file_extension": ".py",
   "mimetype": "text/x-python",
   "name": "python",
   "nbconvert_exporter": "python",
   "pygments_lexer": "ipython3",
   "version": "3.6.1"
  }
 },
 "nbformat": 4,
 "nbformat_minor": 2
}
