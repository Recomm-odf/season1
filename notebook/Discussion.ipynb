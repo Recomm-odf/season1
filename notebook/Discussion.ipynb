{
 "cells": [
  {
   "cell_type": "markdown",
   "metadata": {
    "slideshow": {
     "slide_type": "slide"
    }
   },
   "source": [
    "# Main topic\n",
    "\n",
    "    1. Share work status\n",
    "    2. Define the Gentrification function\n",
    "    3. How to use the AWS server\n",
    "    4. Etc"
   ]
  },
  {
   "cell_type": "markdown",
   "metadata": {
    "slideshow": {
     "slide_type": "subslide"
    }
   },
   "source": [
    "# 1. Share work status\n",
    "1. [San Diego Example](https://github.com/arkingupta/Gentrification-In-San-Diego/blob/master/Gentrification.ipynb)\n",
    "2. [Model exmaple](https://www.kaggle.com/arthurtok/introduction-to-ensembling-stacking-in-python)"
   ]
  }
 ],
 "metadata": {
  "celltoolbar": "Slideshow",
  "kernelspec": {
   "display_name": "Python 3",
   "language": "python",
   "name": "python3"
  },
  "language_info": {
   "codemirror_mode": {
    "name": "ipython",
    "version": 3
   },
   "file_extension": ".py",
   "mimetype": "text/x-python",
   "name": "python",
   "nbconvert_exporter": "python",
   "pygments_lexer": "ipython3",
   "version": "3.6.2"
  }
 },
 "nbformat": 4,
 "nbformat_minor": 2
}
